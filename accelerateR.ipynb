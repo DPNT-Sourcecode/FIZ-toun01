{
 "cells": [
  {
   "cell_type": "code",
   "execution_count": 1,
   "metadata": {},
   "outputs": [
    {
     "name": "stdout",
     "output_type": "stream",
     "text": [
      "Collecting tdl-client-python==0.26.2 (from -r requirements.txt (line 1))\n",
      "  Downloading https://files.pythonhosted.org/packages/ee/2b/3543ec71c5f09ac86d6e62f9b40be6961908c909dcf6f85272b93881f157/tdl-client-python-0.26.2.tar.gz\n",
      "Collecting coverage==4.5.1 (from -r requirements.txt (line 2))\n",
      "  Downloading https://files.pythonhosted.org/packages/25/1c/36da29f83b89d745703cbff3b3dd5b27e7143fbce252b7145b5ccf583e7b/coverage-4.5.1-cp37-cp37m-win_amd64.whl (181kB)\n",
      "Collecting pytest==2.9.1 (from -r requirements.txt (line 3))\n",
      "  Downloading https://files.pythonhosted.org/packages/61/49/c299eeaea69ed31338a58762b5185c56044fc2e09434694742ca2306a514/pytest-2.9.1-py2.py3-none-any.whl (161kB)\n",
      "Collecting pytest-cov==2.1.0 (from -r requirements.txt (line 4))\n",
      "  Downloading https://files.pythonhosted.org/packages/f2/9b/03b7d51c74d8f7088e37043dcf4f59faed359c56e7d016e2627108072679/pytest_cov-2.1.0-py2.py3-none-any.whl\n",
      "Collecting stomp.py==4.1.5 (from tdl-client-python==0.26.2->-r requirements.txt (line 1))\n",
      "  Downloading https://files.pythonhosted.org/packages/dc/eb/b7353fb04a44ec6a12d6c8d9040de867955647abdda8d1b8fd4415c792c4/stomp.py-4.1.5.tar.gz (64kB)\n",
      "Collecting requests==2.21.0 (from tdl-client-python==0.26.2->-r requirements.txt (line 1))\n",
      "  Downloading https://files.pythonhosted.org/packages/7d/e3/20f3d364d6c8e5d2353c72a67778eb189176f08e873c9900e10c0287b84b/requests-2.21.0-py2.py3-none-any.whl (57kB)\n",
      "Requirement already satisfied: py>=1.4.29 in c:\\programdata\\anaconda3\\lib\\site-packages (from pytest==2.9.1->-r requirements.txt (line 3)) (1.8.0)\n",
      "Requirement already satisfied: colorama; sys_platform == \"win32\" in c:\\programdata\\anaconda3\\lib\\site-packages (from pytest==2.9.1->-r requirements.txt (line 3)) (0.4.1)\n",
      "Requirement already satisfied: chardet<3.1.0,>=3.0.2 in c:\\programdata\\anaconda3\\lib\\site-packages (from requests==2.21.0->tdl-client-python==0.26.2->-r requirements.txt (line 1)) (3.0.4)\n",
      "Requirement already satisfied: urllib3<1.25,>=1.21.1 in c:\\programdata\\anaconda3\\lib\\site-packages (from requests==2.21.0->tdl-client-python==0.26.2->-r requirements.txt (line 1)) (1.24.2)\n",
      "Requirement already satisfied: certifi>=2017.4.17 in c:\\programdata\\anaconda3\\lib\\site-packages (from requests==2.21.0->tdl-client-python==0.26.2->-r requirements.txt (line 1)) (2019.6.16)\n",
      "Requirement already satisfied: idna<2.9,>=2.5 in c:\\programdata\\anaconda3\\lib\\site-packages (from requests==2.21.0->tdl-client-python==0.26.2->-r requirements.txt (line 1)) (2.8)\n",
      "Building wheels for collected packages: tdl-client-python, stomp.py\n",
      "  Building wheel for tdl-client-python (setup.py): started\n",
      "  Building wheel for tdl-client-python (setup.py): finished with status 'done'\n",
      "  Stored in directory: C:\\Users\\admin\\AppData\\Local\\pip\\Cache\\wheels\\3d\\f1\\77\\ae4f19376e50bbf5a33cb2386980b3152950c114c579ba92df\n",
      "  Building wheel for stomp.py (setup.py): started\n",
      "  Building wheel for stomp.py (setup.py): finished with status 'done'\n",
      "  Stored in directory: C:\\Users\\admin\\AppData\\Local\\pip\\Cache\\wheels\\a2\\de\\11\\d519285fe6ed71847f9b1f2741e57c530026cec8989e1aefba\n",
      "Successfully built tdl-client-python stomp.py\n",
      "Installing collected packages: stomp.py, requests, tdl-client-python, coverage, pytest, pytest-cov\n",
      "  Found existing installation: requests 2.22.0\n",
      "    Uninstalling requests-2.22.0:\n"
     ]
    },
    {
     "name": "stderr",
     "output_type": "stream",
     "text": [
      "ERROR: pytest-remotedata 0.3.1 has requirement pytest>=3.1, but you'll have pytest 2.9.1 which is incompatible.\n",
      "ERROR: pytest-doctestplus 0.3.0 has requirement pytest>=3.0, but you'll have pytest 2.9.1 which is incompatible.\n",
      "ERROR: pytest-astropy 0.5.0 has requirement pytest>=3.1.0, but you'll have pytest 2.9.1 which is incompatible.\n",
      "ERROR: Could not install packages due to an EnvironmentError: [WinError 5] Access is denied: 'c:\\\\programdata\\\\anaconda3\\\\lib\\\\site-packages\\\\requests-2.22.0.dist-info\\\\INSTALLER'\n",
      "Consider using the `--user` option or check the permissions.\n",
      "\n"
     ]
    }
   ],
   "source": [
    "!pip install -r requirements.txt"
   ]
  },
  {
   "cell_type": "code",
   "execution_count": 1,
   "metadata": {},
   "outputs": [
    {
     "name": "stdout",
     "output_type": "stream",
     "text": [
      "test\n"
     ]
    }
   ],
   "source": [
    "print (\"test\")"
   ]
  },
  {
   "cell_type": "code",
   "execution_count": null,
   "metadata": {},
   "outputs": [],
   "source": []
  }
 ],
 "metadata": {
  "kernelspec": {
   "display_name": "Python 3",
   "language": "python",
   "name": "python3"
  },
  "language_info": {
   "codemirror_mode": {
    "name": "ipython",
    "version": 3
   },
   "file_extension": ".py",
   "mimetype": "text/x-python",
   "name": "python",
   "nbconvert_exporter": "python",
   "pygments_lexer": "ipython3",
   "version": "3.7.3"
  }
 },
 "nbformat": 4,
 "nbformat_minor": 2
}
